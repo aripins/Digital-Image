{
  "nbformat": 4,
  "nbformat_minor": 0,
  "metadata": {
    "colab": {
      "provenance": [],
      "toc_visible": true,
      "include_colab_link": true
    },
    "kernelspec": {
      "name": "python3",
      "display_name": "Python 3"
    },
    "language_info": {
      "name": "python"
    }
  },
  "cells": [
    {
      "cell_type": "markdown",
      "metadata": {
        "id": "view-in-github",
        "colab_type": "text"
      },
      "source": [
        "<a href=\"https://colab.research.google.com/github/aripins/Digital-Image/blob/main/Encryptedimage.ipynb\" target=\"_parent\"><img src=\"https://colab.research.google.com/assets/colab-badge.svg\" alt=\"Open In Colab\"/></a>"
      ]
    },
    {
      "cell_type": "code",
      "source": [
        "pip install opencv-python cryptography"
      ],
      "metadata": {
        "colab": {
          "base_uri": "https://localhost:8080/"
        },
        "id": "PZrpWwkc-WE7",
        "outputId": "ca136c9d-51bd-48e6-acb3-1162ae1c6968"
      },
      "execution_count": 5,
      "outputs": [
        {
          "output_type": "stream",
          "name": "stdout",
          "text": [
            "Requirement already satisfied: opencv-python in /usr/local/lib/python3.10/dist-packages (4.10.0.84)\n",
            "Requirement already satisfied: cryptography in /usr/local/lib/python3.10/dist-packages (43.0.3)\n",
            "Requirement already satisfied: numpy>=1.21.2 in /usr/local/lib/python3.10/dist-packages (from opencv-python) (1.26.4)\n",
            "Requirement already satisfied: cffi>=1.12 in /usr/local/lib/python3.10/dist-packages (from cryptography) (1.17.1)\n",
            "Requirement already satisfied: pycparser in /usr/local/lib/python3.10/dist-packages (from cffi>=1.12->cryptography) (2.22)\n"
          ]
        }
      ]
    },
    {
      "cell_type": "code",
      "execution_count": null,
      "metadata": {
        "colab": {
          "base_uri": "https://localhost:8080/"
        },
        "id": "cAButiCJ2fG9",
        "outputId": "0c997d53-c179-4402-c7ad-a5f4655f0fc8"
      },
      "outputs": [
        {
          "metadata": {
            "tags": null
          },
          "name": "stdout",
          "output_type": "stream",
          "text": [
            "Image Security Application\n",
            "1. Generate Key\n",
            "2. Encrypt Default Image (harpot.jpeg)\n",
            "3. Decrypt Default Image (encrypted_image.enc)\n",
            "4. Exit\n",
            "Key generated and saved as key.key\n",
            "Image encrypted and saved as encrypted_image.enc\n",
            "Image decrypted and saved as decrypted_harpot.jpeg\n"
          ]
        }
      ],
      "source": [
        "import cv2\n",
        "import numpy as np\n",
        "from cryptography.fernet import Fernet\n",
        "\n",
        "# Generate a key for encryption/decryption\n",
        "def generate_key():\n",
        "    key = Fernet.generate_key()\n",
        "    with open(\"key.key\", \"wb\") as key_file:\n",
        "        key_file.write(key)\n",
        "    print(\"Key generated and saved as key.key\")\n",
        "\n",
        "# Load the encryption key\n",
        "def load_key():\n",
        "    with open(\"key.key\", \"rb\") as key_file:\n",
        "        key = key_file.read()\n",
        "    return key\n",
        "\n",
        "# Encrypt an image\n",
        "def encrypt_image(image_path=\"harpot.jpeg\", output_path=\"encrypted_image.enc\"):\n",
        "    key = load_key()\n",
        "    cipher = Fernet(key)\n",
        "\n",
        "    # Read the image as binary data\n",
        "    with open(image_path, \"rb\") as image_file:\n",
        "        image_data = image_file.read()\n",
        "\n",
        "    # Encrypt the image data\n",
        "    encrypted_data = cipher.encrypt(image_data)\n",
        "\n",
        "    # Save the encrypted data to a file\n",
        "    with open(output_path, \"wb\") as encrypted_file:\n",
        "        encrypted_file.write(encrypted_data)\n",
        "    print(f\"Image encrypted and saved as {output_path}\")\n",
        "\n",
        "# Decrypt an image\n",
        "def decrypt_image(encrypted_path=\"encrypted_image.enc\", output_path=\"decrypted_harpot.jpeg\"):\n",
        "    key = load_key()\n",
        "    cipher = Fernet(key)\n",
        "\n",
        "    # Read the encrypted data\n",
        "    with open(encrypted_path, \"rb\") as encrypted_file:\n",
        "        encrypted_data = encrypted_file.read()\n",
        "\n",
        "    # Decrypt the data\n",
        "    decrypted_data = cipher.decrypt(encrypted_data)\n",
        "\n",
        "    # Save the decrypted data as an image\n",
        "    with open(output_path, \"wb\") as image_file:\n",
        "        image_file.write(decrypted_data)\n",
        "    print(f\"Image decrypted and saved as {output_path}\")\n",
        "\n",
        "# Main application menu\n",
        "def main():\n",
        "    print(\"Image Security Application\")\n",
        "    print(\"1. Generate Key\")\n",
        "    print(\"2. Encrypt Default Image (harpot.jpeg)\")\n",
        "    print(\"3. Decrypt Default Image (encrypted_image.enc)\")\n",
        "    print(\"4. Exit\")\n",
        "\n",
        "    while True:\n",
        "        choice = input(\"Choose an option (1-4): \")\n",
        "        if choice == \"1\":\n",
        "            generate_key()\n",
        "        elif choice == \"2\":\n",
        "            encrypt_image()\n",
        "        elif choice == \"3\":\n",
        "            decrypt_image()\n",
        "        elif choice == \"4\":\n",
        "            print(\"Exiting application.\")\n",
        "            break\n",
        "        else:\n",
        "            print(\"Invalid choice. Please choose a valid option.\")\n",
        "\n",
        "if __name__ == \"__main__\":\n",
        "    main()\n"
      ]
    }
  ]
}